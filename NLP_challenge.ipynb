{
  "nbformat": 4,
  "nbformat_minor": 0,
  "metadata": {
    "colab": {
      "name": "NLP_challenge.ipynb",
      "provenance": [],
      "collapsed_sections": [],
      "machine_shape": "hm"
    },
    "kernelspec": {
      "name": "python3",
      "display_name": "Python 3"
    }
  },
  "cells": [
    {
      "cell_type": "markdown",
      "metadata": {
        "id": "3yLw24P_yyjh",
        "colab_type": "text"
      },
      "source": [
        "## Predicting News Headline Popularity \n",
        "\n",
        "This notebook explores the prediction of news headline popularity. This prediction task has business relevance for many media oulets that rely on online readership, who supply subscription members and ad views, in order to generate revenue.\n",
        "\n",
        "<br>\n",
        "\n",
        "The dataset is a collection of news headlines from the Reddit /worldnews subreddit. The popularity of each headline is measured by the number of upvotes it receives from users. Different prediction models, including sklearn Regressors, XGBoost, and CatBoost, are compared for performance.\n",
        "\n",
        "<br>\n",
        "\n",
        "### Table of Contents:\n",
        " ---\n",
        "##### 1. Text Preprocessing\n",
        "\n",
        "##### 2. Sentiment Analysis and Score Calculation\n",
        "\n",
        "##### 3. Word Embedding and Vectorization with Word2Vec\n",
        "\n",
        "##### 4. Modeling with XGBoost and CatBoost\n",
        "\n",
        "##### 5. Results and Analysis"
      ]
    },
    {
      "cell_type": "code",
      "metadata": {
        "colab_type": "code",
        "id": "hckuP5hKyyFr",
        "colab": {}
      },
      "source": [
        "!pip install -U -q PyDrive\n",
        "from pydrive.auth import GoogleAuth\n",
        "from pydrive.drive import GoogleDrive\n",
        "from google.colab import auth\n",
        "from oauth2client.client import GoogleCredentials\n",
        "auth.authenticate_user()\n",
        "gauth = GoogleAuth()\n",
        "gauth.credentials = GoogleCredentials.get_application_default()\n",
        "drive = GoogleDrive(gauth)"
      ],
      "execution_count": 0,
      "outputs": []
    },
    {
      "cell_type": "code",
      "metadata": {
        "id": "cOkPk-5qESlv",
        "colab_type": "code",
        "outputId": "9eefb442-d7b5-4491-f4ae-15a219d4bbe7",
        "colab": {
          "base_uri": "https://localhost:8080/",
          "height": 50
        }
      },
      "source": [
        "%cd \"/content/drive/My Drive/Coding Challenges\"\n",
        "!pwd"
      ],
      "execution_count": 2,
      "outputs": [
        {
          "output_type": "stream",
          "text": [
            "/content/drive/My Drive/Coding Challenges\n",
            "/content/drive/My Drive/Coding Challenges\n"
          ],
          "name": "stdout"
        }
      ]
    },
    {
      "cell_type": "code",
      "metadata": {
        "id": "dCOtKFeMoAa_",
        "colab_type": "code",
        "outputId": "babfef62-002b-47fa-9d21-24310f6a46d3",
        "colab": {
          "base_uri": "https://localhost:8080/",
          "height": 449
        }
      },
      "source": [
        "import os\n",
        "\n",
        "import sys \n",
        "print(f\"Python version is {sys.version}\")\n",
        "\n",
        "import pandas as pd \n",
        "print(f\"pandas version is {pd.__version__}\")\n",
        "\n",
        "import matplotlib.pyplot as plt\n",
        "\n",
        "import seaborn as sns\n",
        "print(f\"seaborn version is {sns.__version__}\")\n",
        "\n",
        "import numpy as np\n",
        "print(f\"NumPy version is {np.__version__}\")\n",
        "\n",
        "import scipy as sp \n",
        "print(f\"SciPy version is {sp.__version__}\")\n",
        "\n",
        "import sklearn \n",
        "print(f\"scikit-learn version is {sklearn.__version__}\")\n",
        "\n",
        "import cv2\n",
        "import IPython\n",
        "from six.moves import urllib\n",
        "\n",
        "from sklearn.model_selection import train_test_split\n",
        "from sklearn.feature_extraction.text import CountVectorizer\n",
        "from sklearn.feature_extraction.text import TfidfVectorizer\n",
        "from sklearn.pipeline import Pipeline\n",
        "from sklearn.metrics import accuracy_score\n",
        "from sklearn.model_selection import cross_val_score\n",
        "from sklearn.model_selection import StratifiedShuffleSplit\n",
        "from sklearn.metrics import mean_absolute_error, mean_squared_error, r2_score, make_scorer\n",
        "from sklearn.ensemble import GradientBoostingRegressor\n",
        "from sklearn.ensemble import RandomForestRegressor\n",
        "\n",
        "import xgboost as xgb\n",
        "\n",
        "!pip install catboost\n",
        "from catboost import CatBoostRegressor\n",
        "\n",
        "import tensorflow as tf\n",
        "from tensorflow import keras\n",
        "print(keras.__version__)\n",
        "from tensorflow.keras.layers import Conv2D, MaxPooling2D, Dropout, Flatten, Dense\n",
        "\n",
        "import warnings\n",
        "warnings.filterwarnings('ignore')"
      ],
      "execution_count": 3,
      "outputs": [
        {
          "output_type": "stream",
          "text": [
            "Python version is 3.6.9 (default, Nov  7 2019, 10:44:02) \n",
            "[GCC 8.3.0]\n",
            "pandas version is 0.25.3\n",
            "seaborn version is 0.10.0\n",
            "NumPy version is 1.17.5\n",
            "SciPy version is 1.4.1\n",
            "scikit-learn version is 0.22.1\n",
            "Requirement already satisfied: catboost in /usr/local/lib/python3.6/dist-packages (0.21)\n",
            "Requirement already satisfied: six in /usr/local/lib/python3.6/dist-packages (from catboost) (1.12.0)\n",
            "Requirement already satisfied: pandas>=0.24.0 in /usr/local/lib/python3.6/dist-packages (from catboost) (0.25.3)\n",
            "Requirement already satisfied: numpy>=1.16.0 in /usr/local/lib/python3.6/dist-packages (from catboost) (1.17.5)\n",
            "Requirement already satisfied: graphviz in /usr/local/lib/python3.6/dist-packages (from catboost) (0.10.1)\n",
            "Requirement already satisfied: matplotlib in /usr/local/lib/python3.6/dist-packages (from catboost) (3.1.3)\n",
            "Requirement already satisfied: scipy in /usr/local/lib/python3.6/dist-packages (from catboost) (1.4.1)\n",
            "Requirement already satisfied: plotly in /usr/local/lib/python3.6/dist-packages (from catboost) (4.4.1)\n",
            "Requirement already satisfied: python-dateutil>=2.6.1 in /usr/local/lib/python3.6/dist-packages (from pandas>=0.24.0->catboost) (2.6.1)\n",
            "Requirement already satisfied: pytz>=2017.2 in /usr/local/lib/python3.6/dist-packages (from pandas>=0.24.0->catboost) (2018.9)\n",
            "Requirement already satisfied: kiwisolver>=1.0.1 in /usr/local/lib/python3.6/dist-packages (from matplotlib->catboost) (1.1.0)\n",
            "Requirement already satisfied: cycler>=0.10 in /usr/local/lib/python3.6/dist-packages (from matplotlib->catboost) (0.10.0)\n",
            "Requirement already satisfied: pyparsing!=2.0.4,!=2.1.2,!=2.1.6,>=2.0.1 in /usr/local/lib/python3.6/dist-packages (from matplotlib->catboost) (2.4.6)\n",
            "Requirement already satisfied: retrying>=1.3.3 in /usr/local/lib/python3.6/dist-packages (from plotly->catboost) (1.3.3)\n",
            "Requirement already satisfied: setuptools in /usr/local/lib/python3.6/dist-packages (from kiwisolver>=1.0.1->matplotlib->catboost) (45.1.0)\n"
          ],
          "name": "stdout"
        },
        {
          "output_type": "display_data",
          "data": {
            "text/html": [
              "<p style=\"color: red;\">\n",
              "The default version of TensorFlow in Colab will soon switch to TensorFlow 2.x.<br>\n",
              "We recommend you <a href=\"https://www.tensorflow.org/guide/migrate\" target=\"_blank\">upgrade</a> now \n",
              "or ensure your notebook will continue to use TensorFlow 1.x via the <code>%tensorflow_version 1.x</code> magic:\n",
              "<a href=\"https://colab.research.google.com/notebooks/tensorflow_version.ipynb\" target=\"_blank\">more info</a>.</p>\n"
            ],
            "text/plain": [
              "<IPython.core.display.HTML object>"
            ]
          },
          "metadata": {
            "tags": []
          }
        },
        {
          "output_type": "stream",
          "text": [
            "2.2.4-tf\n"
          ],
          "name": "stdout"
        }
      ]
    },
    {
      "cell_type": "code",
      "metadata": {
        "id": "zlzUw6-u9rTO",
        "colab_type": "code",
        "outputId": "c70a8793-fa73-4bc5-ad14-c935b000d8aa",
        "colab": {
          "base_uri": "https://localhost:8080/",
          "height": 168
        }
      },
      "source": [
        "import nltk\n",
        "from nltk.corpus import stopwords\n",
        "from nltk.stem import WordNetLemmatizer\n",
        "from nltk.tokenize import word_tokenize, wordpunct_tokenize\n",
        "from nltk.corpus import subjectivity\n",
        "from nltk.sentiment import SentimentAnalyzer\n",
        "from nltk.sentiment.util import *\n",
        "from nltk.sentiment.vader import SentimentIntensityAnalyzer\n",
        "from nltk.stem.snowball import SnowballStemmer\n",
        "nltk.download('punkt')\n",
        "nltk.download('wordnet')\n",
        "nltk.download('stopwords')\n",
        "nltk.download('vader_lexicon')"
      ],
      "execution_count": 4,
      "outputs": [
        {
          "output_type": "stream",
          "text": [
            "[nltk_data] Downloading package punkt to /root/nltk_data...\n",
            "[nltk_data]   Package punkt is already up-to-date!\n",
            "[nltk_data] Downloading package wordnet to /root/nltk_data...\n",
            "[nltk_data]   Package wordnet is already up-to-date!\n",
            "[nltk_data] Downloading package stopwords to /root/nltk_data...\n",
            "[nltk_data]   Package stopwords is already up-to-date!\n",
            "[nltk_data] Downloading package vader_lexicon to /root/nltk_data...\n",
            "[nltk_data]   Package vader_lexicon is already up-to-date!\n"
          ],
          "name": "stdout"
        },
        {
          "output_type": "execute_result",
          "data": {
            "text/plain": [
              "True"
            ]
          },
          "metadata": {
            "tags": []
          },
          "execution_count": 4
        }
      ]
    },
    {
      "cell_type": "code",
      "metadata": {
        "id": "xEjlkfuin5Wz",
        "colab_type": "code",
        "colab": {}
      },
      "source": [
        "import gensim\n",
        "# import gensim.downloader as api\n",
        "# from gensim.test.utils import common_texts\n",
        "from gensim.models import Word2Vec"
      ],
      "execution_count": 0,
      "outputs": []
    },
    {
      "cell_type": "code",
      "metadata": {
        "id": "6s9Q5sL-kL_v",
        "colab_type": "code",
        "colab": {}
      },
      "source": [
        "downloaded = drive.CreateFile({'id':'15X00ZWBjla7qGOIW33j8865QdF89IyAk'}) \n",
        "downloaded.GetContentFile('Eluvio_DS_Challenge.csv')  \n",
        "reader = pd.read_csv('Eluvio_DS_Challenge.csv', chunksize=2_000_000)"
      ],
      "execution_count": 0,
      "outputs": []
    },
    {
      "cell_type": "code",
      "metadata": {
        "id": "i1S64HMwkzGn",
        "colab_type": "code",
        "colab": {}
      },
      "source": [
        "df = reader.get_chunk(1_000_000)  # get smaller chunk of data to work with\n",
        "ref = df.iloc[0:100]  # reference orig data\n",
        "ref2 = df[:] # full copy of df"
      ],
      "execution_count": 0,
      "outputs": []
    },
    {
      "cell_type": "code",
      "metadata": {
        "id": "B-M6ur3sl8CV",
        "colab_type": "code",
        "outputId": "7d4f06f1-e7b0-4cd0-f043-92970ba1e137",
        "colab": {
          "base_uri": "https://localhost:8080/",
          "height": 34
        }
      },
      "source": [
        "df.shape  # ~500k rows"
      ],
      "execution_count": 0,
      "outputs": [
        {
          "output_type": "execute_result",
          "data": {
            "text/plain": [
              "(509236, 8)"
            ]
          },
          "metadata": {
            "tags": []
          },
          "execution_count": 25
        }
      ]
    },
    {
      "cell_type": "code",
      "metadata": {
        "id": "dXxSg3Hsk4Wk",
        "colab_type": "code",
        "outputId": "1a188416-465a-41c2-cbc3-8ba4ca70785c",
        "colab": {
          "base_uri": "https://localhost:8080/",
          "height": 67
        }
      },
      "source": [
        "df.columns"
      ],
      "execution_count": 0,
      "outputs": [
        {
          "output_type": "execute_result",
          "data": {
            "text/plain": [
              "Index(['time_created', 'date_created', 'up_votes', 'down_votes', 'title',\n",
              "       'over_18', 'author', 'category'],\n",
              "      dtype='object')"
            ]
          },
          "metadata": {
            "tags": []
          },
          "execution_count": 26
        }
      ]
    },
    {
      "cell_type": "code",
      "metadata": {
        "id": "ffMNHwiy6swe",
        "colab_type": "code",
        "colab": {}
      },
      "source": [
        "df.drop(['time_created', 'author', 'over_18', 'category'], axis=1, inplace=True)"
      ],
      "execution_count": 0,
      "outputs": []
    },
    {
      "cell_type": "code",
      "metadata": {
        "id": "S_QViQBUF-hT",
        "colab_type": "code",
        "colab": {}
      },
      "source": [
        ""
      ],
      "execution_count": 0,
      "outputs": []
    },
    {
      "cell_type": "markdown",
      "metadata": {
        "id": "fELCNjrkHEYg",
        "colab_type": "text"
      },
      "source": [
        "## Text Preprocessing\n",
        "Steps:\n",
        "1. Remove punctuation and stopwords. Convert to lower case.\n",
        "2. Tokenization\n",
        "3. Stemming"
      ]
    },
    {
      "cell_type": "code",
      "metadata": {
        "id": "cb5cv-_H_sYi",
        "colab_type": "code",
        "colab": {}
      },
      "source": [
        "## TEXT CLEANING\n",
        "\n",
        "# remove punctuation\n",
        "df['title'] = df['title'].str.replace('[^\\w\\s]','')\n",
        "\n",
        "# convert all to lower case\n",
        "df['title'] = df['title'].str.lower()"
      ],
      "execution_count": 0,
      "outputs": []
    },
    {
      "cell_type": "code",
      "metadata": {
        "id": "skaiZ-F1AA5z",
        "colab_type": "code",
        "colab": {}
      },
      "source": [
        "# tokenize headlines into lists of words\n",
        "df['tokenized'] = df.apply(lambda row: wordpunct_tokenize(row['title']), axis=1)"
      ],
      "execution_count": 0,
      "outputs": []
    },
    {
      "cell_type": "code",
      "metadata": {
        "id": "N5zo3ySfVJ8x",
        "colab_type": "code",
        "colab": {}
      },
      "source": [
        "# remove stop words\n",
        "stop = set(stopwords.words('english'))\n",
        "df['tokenized'] = df['tokenized'].apply(lambda row: [word for word in row if word not in stop])"
      ],
      "execution_count": 0,
      "outputs": []
    },
    {
      "cell_type": "code",
      "metadata": {
        "id": "xbF9ROCMEWKg",
        "colab_type": "code",
        "colab": {}
      },
      "source": [
        "# Stemming\n",
        "# Use English stemmer.\n",
        "stemmer = SnowballStemmer(\"english\")\n",
        "\n",
        "# stem all words\n",
        "test1 = df[:]\n",
        "test1['stemmed'] = test1['tokenized'].apply(lambda x: [stemmer.stem(y) for y in x]) "
      ],
      "execution_count": 0,
      "outputs": []
    },
    {
      "cell_type": "code",
      "metadata": {
        "id": "NJBKbF92WC7n",
        "colab_type": "code",
        "outputId": "50e72209-229a-4784-db87-119921566143",
        "colab": {
          "base_uri": "https://localhost:8080/",
          "height": 195
        }
      },
      "source": [
        "# get length of each headline \n",
        "df['title_len'] = df.apply(lambda row: len(row['tokenized']), axis=1)"
      ],
      "execution_count": 0,
      "outputs": [
        {
          "output_type": "execute_result",
          "data": {
            "text/html": [
              "<div>\n",
              "<style scoped>\n",
              "    .dataframe tbody tr th:only-of-type {\n",
              "        vertical-align: middle;\n",
              "    }\n",
              "\n",
              "    .dataframe tbody tr th {\n",
              "        vertical-align: top;\n",
              "    }\n",
              "\n",
              "    .dataframe thead th {\n",
              "        text-align: right;\n",
              "    }\n",
              "</style>\n",
              "<table border=\"1\" class=\"dataframe\">\n",
              "  <thead>\n",
              "    <tr style=\"text-align: right;\">\n",
              "      <th></th>\n",
              "      <th>date_created</th>\n",
              "      <th>up_votes</th>\n",
              "      <th>down_votes</th>\n",
              "      <th>title</th>\n",
              "      <th>tokenized</th>\n",
              "      <th>title_len</th>\n",
              "    </tr>\n",
              "  </thead>\n",
              "  <tbody>\n",
              "    <tr>\n",
              "      <th>0</th>\n",
              "      <td>2008-01-25</td>\n",
              "      <td>3</td>\n",
              "      <td>0</td>\n",
              "      <td>scores killed in pakistan clashes</td>\n",
              "      <td>[scores, killed, pakistan, clashes]</td>\n",
              "      <td>5</td>\n",
              "    </tr>\n",
              "    <tr>\n",
              "      <th>1</th>\n",
              "      <td>2008-01-25</td>\n",
              "      <td>2</td>\n",
              "      <td>0</td>\n",
              "      <td>japan resumes refuelling mission</td>\n",
              "      <td>[japan, resumes, refuelling, mission]</td>\n",
              "      <td>4</td>\n",
              "    </tr>\n",
              "    <tr>\n",
              "      <th>2</th>\n",
              "      <td>2008-01-25</td>\n",
              "      <td>3</td>\n",
              "      <td>0</td>\n",
              "      <td>us presses egypt on gaza border</td>\n",
              "      <td>[us, presses, egypt, gaza, border]</td>\n",
              "      <td>6</td>\n",
              "    </tr>\n",
              "    <tr>\n",
              "      <th>3</th>\n",
              "      <td>2008-01-25</td>\n",
              "      <td>1</td>\n",
              "      <td>0</td>\n",
              "      <td>jumpstart economy give health care to all</td>\n",
              "      <td>[jumpstart, economy, give, health, care]</td>\n",
              "      <td>7</td>\n",
              "    </tr>\n",
              "    <tr>\n",
              "      <th>4</th>\n",
              "      <td>2008-01-25</td>\n",
              "      <td>4</td>\n",
              "      <td>0</td>\n",
              "      <td>council of europe bashes euun terror blacklist</td>\n",
              "      <td>[council, europe, bashes, euun, terror, blackl...</td>\n",
              "      <td>7</td>\n",
              "    </tr>\n",
              "  </tbody>\n",
              "</table>\n",
              "</div>"
            ],
            "text/plain": [
              "  date_created  ...  title_len\n",
              "0   2008-01-25  ...          5\n",
              "1   2008-01-25  ...          4\n",
              "2   2008-01-25  ...          6\n",
              "3   2008-01-25  ...          7\n",
              "4   2008-01-25  ...          7\n",
              "\n",
              "[5 rows x 6 columns]"
            ]
          },
          "metadata": {
            "tags": []
          },
          "execution_count": 34
        }
      ]
    },
    {
      "cell_type": "markdown",
      "metadata": {
        "id": "c-iJXV5GBhEr",
        "colab_type": "text"
      },
      "source": [
        "## Sentiment Score Calculation\n",
        "<a href=\"#sentiment\"></a>"
      ]
    },
    {
      "cell_type": "code",
      "metadata": {
        "id": "A0i7_OrBmrbF",
        "colab_type": "code",
        "colab": {}
      },
      "source": [
        "df_train, df_test = train_test_split(df, test_size=0.33, random_state=42)\n",
        "df_train_title = df_train['tokenized']\n",
        "df_test_title = df_test['tokenized']"
      ],
      "execution_count": 0,
      "outputs": []
    },
    {
      "cell_type": "code",
      "metadata": {
        "id": "g0zxrL0EBnsa",
        "colab_type": "code",
        "colab": {}
      },
      "source": [
        "sentim_analyzer = SentimentAnalyzer()\n",
        "all_words_neg = sentim_analyzer.all_words([mark_negation(title) for title in df_train_title])\n",
        "unigram_feats = sentim_analyzer.unigram_word_feats(all_words_neg, min_freq=4)\n",
        "sentim_analyzer.add_feat_extractor(extract_unigram_feats, unigrams=unigram_feats)"
      ],
      "execution_count": 0,
      "outputs": []
    },
    {
      "cell_type": "code",
      "metadata": {
        "id": "3kH5Ez22CA-c",
        "colab_type": "code",
        "colab": {}
      },
      "source": [
        "sid = SentimentIntensityAnalyzer()\n",
        "\n",
        "compound=[]\n",
        "neg=[]\n",
        "neu=[]\n",
        "pos=[]\n",
        "\n",
        "for title in df['title']:\n",
        "  # print(title)\n",
        "  ss = sid.polarity_scores(title)\n",
        "  compound.append(ss['compound'])\n",
        "  neg.append(ss['neg'])\n",
        "  neu.append(ss['neu'])\n",
        "  pos.append(ss['pos'])"
      ],
      "execution_count": 0,
      "outputs": []
    },
    {
      "cell_type": "code",
      "metadata": {
        "id": "jfBYOtG1FXrP",
        "colab_type": "code",
        "colab": {}
      },
      "source": [
        "# add new sentiments to df\n",
        "df['compound_sentiment'] = np.array(compound)\n",
        "df['neg_sentiment'] = np.array(neg)\n",
        "df['neu_sentiment'] = np.array(neu)\n",
        "df['pos_sentiment'] = np.array(pos)\n"
      ],
      "execution_count": 0,
      "outputs": []
    },
    {
      "cell_type": "markdown",
      "metadata": {
        "id": "VyrxUPGxGOGR",
        "colab_type": "text"
      },
      "source": [
        "## Word Embeddings and Vectorization\n",
        "<a href=\"#word\"></a>"
      ]
    },
    {
      "cell_type": "code",
      "metadata": {
        "id": "_vqI9GGPWkdl",
        "colab_type": "code",
        "colab": {}
      },
      "source": [
        "# build vocabulary and train model\n",
        "model = gensim.models.Word2Vec(\n",
        "    df['tokenized'],\n",
        "    size=150,\n",
        "    window=10,\n",
        "    min_count=2,\n",
        "    workers=10,\n",
        "    iter=10)"
      ],
      "execution_count": 0,
      "outputs": []
    },
    {
      "cell_type": "code",
      "metadata": {
        "id": "q3Emz9zYWqRy",
        "colab_type": "code",
        "colab": {}
      },
      "source": [
        "# # can test the word vector similarity func\n",
        "# w1 = \"president\"\n",
        "# model.wv.most_similar(positive=w1)"
      ],
      "execution_count": 0,
      "outputs": []
    },
    {
      "cell_type": "code",
      "metadata": {
        "id": "qw6fpI7WYWKJ",
        "colab_type": "code",
        "colab": {}
      },
      "source": [
        "model.save(\"word2vec.model\")"
      ],
      "execution_count": 0,
      "outputs": []
    },
    {
      "cell_type": "code",
      "metadata": {
        "id": "r-ut59ZpYt7D",
        "colab_type": "code",
        "outputId": "8bf7ff9c-1e9e-444b-aa4c-e148ef54e86e",
        "colab": {
          "base_uri": "https://localhost:8080/",
          "height": 34
        }
      },
      "source": [
        "word_vectors = model.wv\n",
        "type(word_vectors)"
      ],
      "execution_count": 0,
      "outputs": [
        {
          "output_type": "execute_result",
          "data": {
            "text/plain": [
              "gensim.models.keyedvectors.Word2VecKeyedVectors"
            ]
          },
          "metadata": {
            "tags": []
          },
          "execution_count": 16
        }
      ]
    },
    {
      "cell_type": "code",
      "metadata": {
        "id": "y2xZcQQ1jKZr",
        "colab_type": "code",
        "colab": {}
      },
      "source": [
        "X = []\n",
        "\n",
        "# for title in df['tok_clean']:\n",
        "for title in df['tokenized']:\n",
        "  means = []\n",
        "  for word in title:\n",
        "    if word in word_vectors.vocab:\n",
        "      mean = np.mean(np.array(word_vectors[word]))\n",
        "      means.append(mean)\n",
        "  X.append(means)"
      ],
      "execution_count": 0,
      "outputs": []
    },
    {
      "cell_type": "code",
      "metadata": {
        "id": "H_6F6yxtswua",
        "colab_type": "code",
        "outputId": "b8d85af2-1d59-4559-c31f-b3f87e898c29",
        "colab": {
          "base_uri": "https://localhost:8080/",
          "height": 50
        }
      },
      "source": [
        "# X contains the average vector rep for each word per title\n",
        "print(len(X))\n",
        "print(df.shape)"
      ],
      "execution_count": 0,
      "outputs": [
        {
          "output_type": "stream",
          "text": [
            "509236\n",
            "(509236, 12)\n"
          ],
          "name": "stdout"
        }
      ]
    },
    {
      "cell_type": "code",
      "metadata": {
        "id": "f5Qt09d2cLCJ",
        "colab_type": "code",
        "colab": {}
      },
      "source": [
        "# take average for whole title\n",
        "X_avg = []\n",
        "for i in X:\n",
        "    i_ = i if type(i) is list else [i]\n",
        "    if len(i_) != 0:\n",
        "      X_avg.append(sum(i_)/float(len(i_)))\n",
        "    else:\n",
        "      X_avg.append(0)"
      ],
      "execution_count": 0,
      "outputs": []
    },
    {
      "cell_type": "code",
      "metadata": {
        "id": "0S2NAS9ZvRRV",
        "colab_type": "code",
        "colab": {}
      },
      "source": [
        "df[\"avg_vec\"] = pd.Series(X_avg)"
      ],
      "execution_count": 0,
      "outputs": []
    },
    {
      "cell_type": "code",
      "metadata": {
        "id": "8bYtz_7mvtek",
        "colab_type": "code",
        "outputId": "638b91cd-ea4b-479d-8d17-35f54f72eb10",
        "colab": {
          "base_uri": "https://localhost:8080/",
          "height": 313
        }
      },
      "source": [
        "df.head()"
      ],
      "execution_count": 0,
      "outputs": [
        {
          "output_type": "execute_result",
          "data": {
            "text/html": [
              "<div>\n",
              "<style scoped>\n",
              "    .dataframe tbody tr th:only-of-type {\n",
              "        vertical-align: middle;\n",
              "    }\n",
              "\n",
              "    .dataframe tbody tr th {\n",
              "        vertical-align: top;\n",
              "    }\n",
              "\n",
              "    .dataframe thead th {\n",
              "        text-align: right;\n",
              "    }\n",
              "</style>\n",
              "<table border=\"1\" class=\"dataframe\">\n",
              "  <thead>\n",
              "    <tr style=\"text-align: right;\">\n",
              "      <th></th>\n",
              "      <th>Unnamed: 0</th>\n",
              "      <th>date_created</th>\n",
              "      <th>up_votes</th>\n",
              "      <th>down_votes</th>\n",
              "      <th>title</th>\n",
              "      <th>tokenized</th>\n",
              "      <th>title_len</th>\n",
              "      <th>compound_sentiment</th>\n",
              "      <th>neg_sentiment</th>\n",
              "      <th>neu_sentiment</th>\n",
              "      <th>pos_sentiment</th>\n",
              "      <th>avg_vec</th>\n",
              "    </tr>\n",
              "  </thead>\n",
              "  <tbody>\n",
              "    <tr>\n",
              "      <th>0</th>\n",
              "      <td>0</td>\n",
              "      <td>2008-01-25</td>\n",
              "      <td>3</td>\n",
              "      <td>0</td>\n",
              "      <td>scores killed in pakistan clashes</td>\n",
              "      <td>['scores', 'killed', 'pakistan', 'clashes']</td>\n",
              "      <td>5</td>\n",
              "      <td>-0.6705</td>\n",
              "      <td>0.529</td>\n",
              "      <td>0.471</td>\n",
              "      <td>0.000</td>\n",
              "      <td>0.028914</td>\n",
              "    </tr>\n",
              "    <tr>\n",
              "      <th>1</th>\n",
              "      <td>1</td>\n",
              "      <td>2008-01-25</td>\n",
              "      <td>2</td>\n",
              "      <td>0</td>\n",
              "      <td>japan resumes refuelling mission</td>\n",
              "      <td>['japan', 'resumes', 'refuelling', 'mission']</td>\n",
              "      <td>4</td>\n",
              "      <td>0.0000</td>\n",
              "      <td>0.000</td>\n",
              "      <td>1.000</td>\n",
              "      <td>0.000</td>\n",
              "      <td>0.032777</td>\n",
              "    </tr>\n",
              "    <tr>\n",
              "      <th>2</th>\n",
              "      <td>2</td>\n",
              "      <td>2008-01-25</td>\n",
              "      <td>3</td>\n",
              "      <td>0</td>\n",
              "      <td>us presses egypt on gaza border</td>\n",
              "      <td>['us', 'presses', 'egypt', 'gaza', 'border']</td>\n",
              "      <td>6</td>\n",
              "      <td>0.0000</td>\n",
              "      <td>0.000</td>\n",
              "      <td>1.000</td>\n",
              "      <td>0.000</td>\n",
              "      <td>0.011322</td>\n",
              "    </tr>\n",
              "    <tr>\n",
              "      <th>3</th>\n",
              "      <td>3</td>\n",
              "      <td>2008-01-25</td>\n",
              "      <td>1</td>\n",
              "      <td>0</td>\n",
              "      <td>jumpstart economy give health care to all</td>\n",
              "      <td>['jumpstart', 'economy', 'give', 'health', 'ca...</td>\n",
              "      <td>7</td>\n",
              "      <td>0.4939</td>\n",
              "      <td>0.000</td>\n",
              "      <td>0.652</td>\n",
              "      <td>0.348</td>\n",
              "      <td>0.015898</td>\n",
              "    </tr>\n",
              "    <tr>\n",
              "      <th>4</th>\n",
              "      <td>4</td>\n",
              "      <td>2008-01-25</td>\n",
              "      <td>4</td>\n",
              "      <td>0</td>\n",
              "      <td>council of europe bashes euun terror blacklist</td>\n",
              "      <td>['council', 'europe', 'bashes', 'euun', 'terro...</td>\n",
              "      <td>7</td>\n",
              "      <td>-0.5267</td>\n",
              "      <td>0.362</td>\n",
              "      <td>0.638</td>\n",
              "      <td>0.000</td>\n",
              "      <td>0.023960</td>\n",
              "    </tr>\n",
              "  </tbody>\n",
              "</table>\n",
              "</div>"
            ],
            "text/plain": [
              "   Unnamed: 0 date_created  up_votes  ...  neu_sentiment pos_sentiment   avg_vec\n",
              "0           0   2008-01-25         3  ...          0.471         0.000  0.028914\n",
              "1           1   2008-01-25         2  ...          1.000         0.000  0.032777\n",
              "2           2   2008-01-25         3  ...          1.000         0.000  0.011322\n",
              "3           3   2008-01-25         1  ...          0.652         0.348  0.015898\n",
              "4           4   2008-01-25         4  ...          0.638         0.000  0.023960\n",
              "\n",
              "[5 rows x 12 columns]"
            ]
          },
          "metadata": {
            "tags": []
          },
          "execution_count": 21
        }
      ]
    },
    {
      "cell_type": "markdown",
      "metadata": {
        "id": "Xmn161vgbMxi",
        "colab_type": "text"
      },
      "source": [
        "## Modeling\n",
        "<a href=\"#modeling\"></a>"
      ]
    },
    {
      "cell_type": "code",
      "metadata": {
        "id": "Xw6LPIQ4WSFl",
        "colab_type": "code",
        "colab": {}
      },
      "source": [
        "# continue\n",
        "df = pd.read_csv(\"data_to_model.csv\")"
      ],
      "execution_count": 0,
      "outputs": []
    },
    {
      "cell_type": "code",
      "metadata": {
        "id": "q42eXUFMdaoX",
        "colab_type": "code",
        "colab": {}
      },
      "source": [
        "df2 = df.sample(10_000)\n",
        "X = df2[['title_len', 'compound_sentiment', 'neg_sentiment', 'neu_sentiment', 'pos_sentiment', 'avg_vec']]\n",
        "y = df2['up_votes']"
      ],
      "execution_count": 0,
      "outputs": []
    },
    {
      "cell_type": "code",
      "metadata": {
        "id": "_QoBH9gmwGF6",
        "colab_type": "code",
        "outputId": "e49f825b-8a98-4cb5-b9e7-6c7165dcb8d2",
        "colab": {
          "base_uri": "https://localhost:8080/",
          "height": 34
        }
      },
      "source": [
        "# split into train and test\n",
        "X_train, X_test, y_train, y_test = train_test_split(X, y, test_size=0.33, random_state=42)\n",
        "print(X.shape, y.shape, X_train.shape, X_test.shape, y_train.shape, y_test.shape)"
      ],
      "execution_count": 8,
      "outputs": [
        {
          "output_type": "stream",
          "text": [
            "(10000, 6) (10000,) (6700, 6) (3300, 6) (6700,) (3300,)\n"
          ],
          "name": "stdout"
        }
      ]
    },
    {
      "cell_type": "code",
      "metadata": {
        "id": "XmgsLsikLAhV",
        "colab_type": "code",
        "colab": {}
      },
      "source": [
        "# Begin sklearn Regressor modeling"
      ],
      "execution_count": 0,
      "outputs": []
    },
    {
      "cell_type": "code",
      "metadata": {
        "id": "jlsYhJ-bKA0G",
        "colab_type": "code",
        "colab": {}
      },
      "source": [
        "reg1 = GradientBoostingRegressor(n_estimators=50,\n",
        "                                  criterion=\"mse\",\n",
        "                                  max_features=\"auto\")\n",
        "\n",
        "reg2 = RandomForestRegressor(n_estimators=50,\n",
        "                                  criterion=\"mse\",\n",
        "                                  max_features=\"auto\")\n",
        "\n",
        "reg1.fit(X_train, y_train)\n",
        "y_pred1 = reg1.predict(X_test)\n",
        "\n",
        "reg2.fit(X_train, y_train)\n",
        "y_pred2 = reg2.predict(X_test)\n"
      ],
      "execution_count": 0,
      "outputs": []
    },
    {
      "cell_type": "code",
      "metadata": {
        "id": "uQv3Ny0vMKQq",
        "colab_type": "code",
        "outputId": "f3127455-ab21-45e4-c7ba-8970ef6fdd1e",
        "colab": {
          "base_uri": "https://localhost:8080/",
          "height": 101
        }
      },
      "source": [
        "print(\"Metrics for GradientBoostingRegressor:\")\n",
        "print(f\"Mean Absolute Error: {mean_absolute_error(y_test, y_pred1)}\")\n",
        "print(f\"Mean Squared Error: {mean_squared_error(y_test, y_pred1)}\")\n",
        "print(f\"Root Mean Squared Error: {mean_squared_error(y_test, y_pred1, squared=False)}\")\n",
        "print(f\"R2 Score: {r2_score(y_test, y_pred1)}\")"
      ],
      "execution_count": 0,
      "outputs": [
        {
          "output_type": "stream",
          "text": [
            "Metrics for GradientBoostingRegressor:\n",
            "Mean Absolute Error: 168.27861404842528\n",
            "Mean Squared Error: 238555.22271074186\n",
            "Root Mean Squared Error: 488.4211530131981\n",
            "R2 Score: -0.029180503954375103\n"
          ],
          "name": "stdout"
        }
      ]
    },
    {
      "cell_type": "code",
      "metadata": {
        "id": "RiGDAAuxMmP8",
        "colab_type": "code",
        "outputId": "84db21f3-950c-4b22-e32a-90509ee6dc9e",
        "colab": {
          "base_uri": "https://localhost:8080/",
          "height": 101
        }
      },
      "source": [
        "print(\"Metrics for RandomForestRegressor:\")\n",
        "print(f\"Mean Absolute Error: {mean_absolute_error(y_test, y_pred2)}\")\n",
        "print(f\"Mean Squared Error: {mean_squared_error(y_test, y_pred2)}\")\n",
        "print(f\"Root Mean Squared Error: {mean_squared_error(y_test, y_pred2, squared=False)}\")\n",
        "print(f\"R2 Score: {r2_score(y_test, y_pred2)}\")"
      ],
      "execution_count": 0,
      "outputs": [
        {
          "output_type": "stream",
          "text": [
            "Metrics for RandomForestRegressor:\n",
            "Mean Absolute Error: 186.18039525252527\n",
            "Mean Squared Error: 269624.3638453456\n",
            "Root Mean Squared Error: 519.2536604063043\n",
            "R2 Score: -0.1632197170430485\n"
          ],
          "name": "stdout"
        }
      ]
    },
    {
      "cell_type": "code",
      "metadata": {
        "id": "Rd-Sc736LSRM",
        "colab_type": "code",
        "colab": {}
      },
      "source": [
        "# Begin xgboost and catboost modeling"
      ],
      "execution_count": 0,
      "outputs": []
    },
    {
      "cell_type": "code",
      "metadata": {
        "id": "8Q2pP9TmwMIM",
        "colab_type": "code",
        "outputId": "6f418072-ec9d-4051-cab4-f2da1b41774f",
        "colab": {
          "base_uri": "https://localhost:8080/",
          "height": 34
        }
      },
      "source": [
        "model = xgb.XGBRegressor()\n",
        "model.fit(X_train, y_train)\n",
        "y_pred3 = model.predict(X_test)"
      ],
      "execution_count": 0,
      "outputs": [
        {
          "output_type": "stream",
          "text": [
            "[07:25:45] WARNING: /workspace/src/objective/regression_obj.cu:152: reg:linear is now deprecated in favor of reg:squarederror.\n"
          ],
          "name": "stdout"
        }
      ]
    },
    {
      "cell_type": "code",
      "metadata": {
        "id": "Csogpd9RxP5n",
        "colab_type": "code",
        "outputId": "8556b314-c74c-4ad4-82fa-95307d588927",
        "colab": {
          "base_uri": "https://localhost:8080/",
          "height": 101
        }
      },
      "source": [
        "print(\"Metrics for XGBoost:\")\n",
        "print(f\"Mean Absolute Error: {mean_absolute_error(y_test, y_pred3)}\")\n",
        "print(f\"Mean Squared Error: {mean_squared_error(y_test, y_pred3)}\")\n",
        "print(f\"Root Mean Squared Error: {mean_squared_error(y_test, y_pred3, squared=False)}\")\n",
        "print(f\"R2 Score: {r2_score(y_test, y_pred3)}\")"
      ],
      "execution_count": 0,
      "outputs": [
        {
          "output_type": "stream",
          "text": [
            "Metrics for XGBoost:\n",
            "Mean Absolute Error: 168.91247396643413\n",
            "Mean Squared Error: 238687.659935655\n",
            "Root Mean Squared Error: 488.556711074216\n",
            "R2 Score: -0.029751867717991765\n"
          ],
          "name": "stdout"
        }
      ]
    },
    {
      "cell_type": "code",
      "metadata": {
        "colab_type": "code",
        "id": "5A8e1XP3kqTx",
        "colab": {}
      },
      "source": [
        ""
      ],
      "execution_count": 0,
      "outputs": []
    },
    {
      "cell_type": "code",
      "metadata": {
        "id": "eY9U6AHYyIxi",
        "colab_type": "code",
        "colab": {}
      },
      "source": [
        "model2 = CatBoostRegressor(iterations=50, depth=3, learning_rate=0.1, loss_function='RMSE')\n",
        "model2.fit(X_train, y_train)\n",
        "y_pred4 = model2.predict(X_test)"
      ],
      "execution_count": 0,
      "outputs": []
    },
    {
      "cell_type": "code",
      "metadata": {
        "id": "MvW5mABKyPiP",
        "colab_type": "code",
        "outputId": "02e58675-c7d7-49f8-d33a-8b974e1066a7",
        "colab": {
          "base_uri": "https://localhost:8080/",
          "height": 101
        }
      },
      "source": [
        "print(\"Metrics for CatBoost:\")\n",
        "print(f\"Mean Absolute Error: {mean_absolute_error(y_test, y_pred4)}\")\n",
        "print(f\"Mean Squared Error: {mean_squared_error(y_test, y_pred4)}\")\n",
        "print(f\"Root Mean Squared Error: {mean_squared_error(y_test, y_pred4, squared=False)}\")\n",
        "print(f\"R2 Score: {r2_score(y_test, y_pred4)}\")"
      ],
      "execution_count": 0,
      "outputs": [
        {
          "output_type": "stream",
          "text": [
            "Metrics for CatBoost:\n",
            "Mean Absolute Error: 166.16241185762624\n",
            "Mean Squared Error: 232438.94068590266\n",
            "Root Mean Squared Error: 482.1192183328753\n",
            "R2 Score: -0.002793497436040404\n"
          ],
          "name": "stdout"
        }
      ]
    },
    {
      "cell_type": "code",
      "metadata": {
        "id": "fyAV7KrPRhze",
        "colab_type": "code",
        "colab": {}
      },
      "source": [
        ""
      ],
      "execution_count": 0,
      "outputs": []
    },
    {
      "cell_type": "code",
      "metadata": {
        "id": "9WI5_7EPuwKT",
        "colab_type": "code",
        "colab": {}
      },
      "source": [
        ""
      ],
      "execution_count": 0,
      "outputs": []
    },
    {
      "cell_type": "markdown",
      "metadata": {
        "id": "mbQf0hLHyt4Q",
        "colab_type": "text"
      },
      "source": [
        "## Results and Analysis\n",
        "<a href=\"#results\"></a>\n",
        "\n",
        "\n",
        "From the results of the regression, CatBoost has the lowest RMSE score and therefore best optimal model given constraints. In the future, more analysis on other features, such as time released and article content and upvote/downvote ratio, would give greater insight and accuracy to the phenomenon of higher readership and popularity for certain articles."
      ]
    },
    {
      "cell_type": "code",
      "metadata": {
        "id": "wsLWk9wsQLCZ",
        "colab_type": "code",
        "colab": {}
      },
      "source": [
        "scores = {\"GradientBoostingRegressor\": mean_squared_error(y_test, y_pred1, squared=False),\n",
        "              \"RandomForestRegressor\": mean_squared_error(y_test, y_pred2, squared=False),\n",
        "              \"XGBoost\": mean_squared_error(y_test, y_pred3, squared=False),\n",
        "              \"CatBoost\": mean_squared_error(y_test, y_pred4, squared=False)}"
      ],
      "execution_count": 0,
      "outputs": []
    },
    {
      "cell_type": "code",
      "metadata": {
        "colab_type": "code",
        "id": "rq4BMGyJytA4",
        "outputId": "841e67d2-accc-4ea7-9434-cd4e5ff78a36",
        "colab": {
          "base_uri": "https://localhost:8080/",
          "height": 665
        }
      },
      "source": [
        "fig = plt.figure(figsize=(20, 10))\n",
        "\n",
        "ax = sns.pointplot(x = list(scores.keys()), y= [score for score in scores.values()])\n",
        "\n",
        "plt.ylabel('Score (RMSE)', size=20, labelpad=12.5)\n",
        "plt.xlabel('Model', size=20, labelpad=12.5)\n",
        "plt.tick_params(axis='x', labelsize=13.5)\n",
        "plt.tick_params(axis='y', labelsize=12.5)\n",
        "\n",
        "plt.title('Scores of Models', size=20)"
      ],
      "execution_count": 0,
      "outputs": [
        {
          "output_type": "execute_result",
          "data": {
            "text/plain": [
              "Text(0.5, 1.0, 'Scores of Models')"
            ]
          },
          "metadata": {
            "tags": []
          },
          "execution_count": 46
        },
        {
          "output_type": "display_data",
          "data": {
            "image/png": "[encoded data removed]",
            "text/plain": [
              "<Figure size 1440x720 with 1 Axes>"
            ]
          },
          "metadata": {
            "tags": []
          }
        }
      ]
    },
    {
      "cell_type": "code",
      "metadata": {
        "id": "J9myQWjDytes",
        "colab_type": "code",
        "colab": {}
      },
      "source": [
        ""
      ],
      "execution_count": 0,
      "outputs": []
    },
    {
      "cell_type": "code",
      "metadata": {
        "id": "_PDNxFRSy3C1",
        "colab_type": "code",
        "colab": {}
      },
      "source": [
        "pred = pd.Series(y_pred4)\n",
        "y_test.reset_index(drop=True, inplace=True)\n",
        "pred.reset_index(drop=True, inplace=True)\n",
        "test_results = pd.concat([y_test, pred], axis=1)\n",
        "test_results.columns=[\"up_votes\", \"predicted_up_votes\"]"
      ],
      "execution_count": 0,
      "outputs": []
    },
    {
      "cell_type": "code",
      "metadata": {
        "id": "kadngNtcTzuK",
        "colab_type": "code",
        "colab": {}
      },
      "source": [
        "test_results.to_csv(\"predictions.csv\")"
      ],
      "execution_count": 0,
      "outputs": []
    },
    {
      "cell_type": "code",
      "metadata": {
        "id": "uq5mbRlBU38Z",
        "colab_type": "code",
        "colab": {}
      },
      "source": [
        ""
      ],
      "execution_count": 0,
      "outputs": []
    }
  ]
}